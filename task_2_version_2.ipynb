{
 "cells": [
  {
   "cell_type": "code",
   "execution_count": 2,
   "metadata": {},
   "outputs": [],
   "source": [
    "import pandas as pd\n",
    "import numpy as np\n",
    "import matplotlib.pyplot as plt\n",
    "import seaborn as sns\n",
    "import scipy.stats as st\n",
    "import scipy.stats as ss\n",
    "import pingouin as pg\n",
    "\n",
    "from tqdm.auto import tqdm\n",
    "import warnings\n",
    "warnings.filterwarnings('ignore')"
   ]
  },
  {
   "cell_type": "code",
   "execution_count": 3,
   "metadata": {},
   "outputs": [],
   "source": [
    "t2_df = pd.read_csv('/mnt/HC_Volume_18315164/home-jupyter/jupyter-t-pilipchuk/Fin_p/Проект_1_Задание_2 (1).csv', sep=';')"
   ]
  },
  {
   "cell_type": "code",
   "execution_count": 4,
   "metadata": {},
   "outputs": [
    {
     "data": {
      "text/html": [
       "<div>\n",
       "<style scoped>\n",
       "    .dataframe tbody tr th:only-of-type {\n",
       "        vertical-align: middle;\n",
       "    }\n",
       "\n",
       "    .dataframe tbody tr th {\n",
       "        vertical-align: top;\n",
       "    }\n",
       "\n",
       "    .dataframe thead th {\n",
       "        text-align: right;\n",
       "    }\n",
       "</style>\n",
       "<table border=\"1\" class=\"dataframe\">\n",
       "  <thead>\n",
       "    <tr style=\"text-align: right;\">\n",
       "      <th></th>\n",
       "      <th>user_id</th>\n",
       "      <th>revenue</th>\n",
       "      <th>testgroup</th>\n",
       "    </tr>\n",
       "  </thead>\n",
       "  <tbody>\n",
       "    <tr>\n",
       "      <th>0</th>\n",
       "      <td>1</td>\n",
       "      <td>0</td>\n",
       "      <td>b</td>\n",
       "    </tr>\n",
       "    <tr>\n",
       "      <th>1</th>\n",
       "      <td>2</td>\n",
       "      <td>0</td>\n",
       "      <td>a</td>\n",
       "    </tr>\n",
       "    <tr>\n",
       "      <th>2</th>\n",
       "      <td>3</td>\n",
       "      <td>0</td>\n",
       "      <td>a</td>\n",
       "    </tr>\n",
       "    <tr>\n",
       "      <th>3</th>\n",
       "      <td>4</td>\n",
       "      <td>0</td>\n",
       "      <td>b</td>\n",
       "    </tr>\n",
       "    <tr>\n",
       "      <th>4</th>\n",
       "      <td>5</td>\n",
       "      <td>0</td>\n",
       "      <td>b</td>\n",
       "    </tr>\n",
       "  </tbody>\n",
       "</table>\n",
       "</div>"
      ],
      "text/plain": [
       "   user_id  revenue testgroup\n",
       "0        1        0         b\n",
       "1        2        0         a\n",
       "2        3        0         a\n",
       "3        4        0         b\n",
       "4        5        0         b"
      ]
     },
     "execution_count": 4,
     "metadata": {},
     "output_type": "execute_result"
    }
   ],
   "source": [
    "t2_df.head()"
   ]
  },
  {
   "cell_type": "code",
   "execution_count": 5,
   "metadata": {},
   "outputs": [
    {
     "data": {
      "text/plain": [
       "user_id      0\n",
       "revenue      0\n",
       "testgroup    0\n",
       "dtype: int64"
      ]
     },
     "execution_count": 5,
     "metadata": {},
     "output_type": "execute_result"
    }
   ],
   "source": [
    "t2_df.isna().sum()"
   ]
  },
  {
   "cell_type": "markdown",
   "metadata": {},
   "source": [
    "В датасете всё чисто, продолжим"
   ]
  },
  {
   "cell_type": "code",
   "execution_count": 5,
   "metadata": {},
   "outputs": [
    {
     "data": {
      "text/plain": [
       "404770"
      ]
     },
     "execution_count": 5,
     "metadata": {},
     "output_type": "execute_result"
    }
   ],
   "source": [
    "t2_df.shape[0]"
   ]
  },
  {
   "cell_type": "code",
   "execution_count": 6,
   "metadata": {},
   "outputs": [
    {
     "name": "stdout",
     "output_type": "stream",
     "text": [
      "Группа A - 202103 пользователей, из них 1928 платящих c конверсией 0.0095, ARPU: 25.414, ARPPU: 2663.998\n",
      "Группа B - 202667 пользователей, из них 1805 платящих c конверсией 0.0089, ARPU: 26.751, ARPPU: 3003.658\n"
     ]
    }
   ],
   "source": [
    "# Ключевые метрики для обеих групп\n",
    "\n",
    "users_a = t2_df.query('testgroup == \"a\"')['user_id'].nunique()\n",
    "users_b = t2_df.query('testgroup == \"b\"')['user_id'].nunique()\n",
    "\n",
    "pay_users_a = t2_df.query('testgroup == \"a\" & revenue > 0')['user_id'].nunique()\n",
    "pay_users_b = t2_df.query('testgroup == \"b\" & revenue > 0')['user_id'].nunique()\n",
    "\n",
    "conv_a = np.round(pay_users_a / users_a, 4)\n",
    "conv_b = np.round(pay_users_b / users_b, 4) \n",
    "\n",
    "arpu_a = t2_df.query('testgroup == \"a\"')['revenue'].sum() / users_a\n",
    "arpu_b = t2_df.query('testgroup == \"b\"')['revenue'].sum() / users_b\n",
    "\n",
    "arppu_a = t2_df.query('testgroup == \"a\"')['revenue'].sum() / pay_users_a\n",
    "arppu_b = t2_df.query('testgroup == \"b\"')['revenue'].sum() / pay_users_b\n",
    "\n",
    "print('Группа A - {} пользователей, из них {} платящих c конверсией {}, ARPU: {:.3f}, ARPPU: {:.3f}'\n",
    "      .format(users_a, pay_users_a, conv_a, arpu_a, arppu_a))\n",
    "print('Группа B - {} пользователей, из них {} платящих c конверсией {}, ARPU: {:.3f}, ARPPU: {:.3f}'\n",
    "      .format(users_b, pay_users_b, conv_b, arpu_b, arppu_b))"
   ]
  },
  {
   "cell_type": "markdown",
   "metadata": {},
   "source": [
    "Так как процент платящих пользователей меньше 1%, то следует посмотреть на неплатящих пользователей"
   ]
  },
  {
   "cell_type": "code",
   "execution_count": 7,
   "metadata": {},
   "outputs": [
    {
     "data": {
      "text/html": [
       "<div>\n",
       "<style scoped>\n",
       "    .dataframe tbody tr th:only-of-type {\n",
       "        vertical-align: middle;\n",
       "    }\n",
       "\n",
       "    .dataframe tbody tr th {\n",
       "        vertical-align: top;\n",
       "    }\n",
       "\n",
       "    .dataframe thead th {\n",
       "        text-align: right;\n",
       "    }\n",
       "</style>\n",
       "<table border=\"1\" class=\"dataframe\">\n",
       "  <thead>\n",
       "    <tr style=\"text-align: right;\">\n",
       "      <th></th>\n",
       "      <th>user_id</th>\n",
       "      <th>revenue</th>\n",
       "      <th>testgroup</th>\n",
       "    </tr>\n",
       "  </thead>\n",
       "  <tbody>\n",
       "    <tr>\n",
       "      <th>72</th>\n",
       "      <td>73</td>\n",
       "      <td>351</td>\n",
       "      <td>a</td>\n",
       "    </tr>\n",
       "    <tr>\n",
       "      <th>160</th>\n",
       "      <td>161</td>\n",
       "      <td>3797</td>\n",
       "      <td>b</td>\n",
       "    </tr>\n",
       "    <tr>\n",
       "      <th>341</th>\n",
       "      <td>342</td>\n",
       "      <td>290</td>\n",
       "      <td>a</td>\n",
       "    </tr>\n",
       "    <tr>\n",
       "      <th>377</th>\n",
       "      <td>378</td>\n",
       "      <td>3768</td>\n",
       "      <td>b</td>\n",
       "    </tr>\n",
       "    <tr>\n",
       "      <th>385</th>\n",
       "      <td>386</td>\n",
       "      <td>250</td>\n",
       "      <td>a</td>\n",
       "    </tr>\n",
       "  </tbody>\n",
       "</table>\n",
       "</div>"
      ],
      "text/plain": [
       "     user_id  revenue testgroup\n",
       "72        73      351         a\n",
       "160      161     3797         b\n",
       "341      342      290         a\n",
       "377      378     3768         b\n",
       "385      386      250         a"
      ]
     },
     "execution_count": 7,
     "metadata": {},
     "output_type": "execute_result"
    }
   ],
   "source": [
    "paying_groups_df = t2_df[t2_df['revenue'] > 0]  # Отбор пользователей с доходом > 0\n",
    "paying_groups_df.head()"
   ]
  },
  {
   "cell_type": "markdown",
   "metadata": {},
   "source": [
    "Отфильтруем их по группам"
   ]
  },
  {
   "cell_type": "code",
   "execution_count": 8,
   "metadata": {},
   "outputs": [],
   "source": [
    "paying_a = paying_groups_df.query('testgroup == \"a\"')[['revenue']]\n",
    "paying_a.name = 'Group A'\n",
    "paying_b = paying_groups_df.query('testgroup == \"b\"')[['revenue']]\n",
    "paying_b.name = 'Group B'"
   ]
  },
  {
   "cell_type": "markdown",
   "metadata": {},
   "source": [
    "Посмотрим на распределение по гистограмме"
   ]
  },
  {
   "cell_type": "code",
   "execution_count": 9,
   "metadata": {},
   "outputs": [
    {
     "data": {
      "image/png": "[encoded data removed]",
      "text/plain": [
       "<Figure size 1440x504 with 2 Axes>"
      ]
     },
     "metadata": {
      "needs_background": "light"
     },
     "output_type": "display_data"
    }
   ],
   "source": [
    "plt.figure(figsize=(20, 7)) \n",
    "\n",
    "for i,group in enumerate([paying_a, paying_b]):\n",
    "    plt.subplot(1, 2, i+1)\n",
    "    plt.title(group.name)\n",
    "    sns.distplot(group, kde=False)"
   ]
  },
  {
   "cell_type": "code",
   "execution_count": 10,
   "metadata": {},
   "outputs": [
    {
     "data": {
      "text/plain": [
       "123"
      ]
     },
     "execution_count": 10,
     "metadata": {},
     "output_type": "execute_result"
    }
   ],
   "source": [
    "paying_a[paying_a.revenue > 1000].shape[0]"
   ]
  },
  {
   "cell_type": "markdown",
   "metadata": {},
   "source": [
    "Количество пользователей группы A - принесшие большую прибыль."
   ]
  },
  {
   "cell_type": "code",
   "execution_count": 11,
   "metadata": {},
   "outputs": [
    {
     "name": "stdout",
     "output_type": "stream",
     "text": [
      "0.89\n"
     ]
    }
   ],
   "source": [
    "# Доля прибыли с таких пользователей от общей прибыли\n",
    "print('{:.2f}'.format(*paying_a.query('revenue > 30000').sum() / paying_a.sum()))"
   ]
  },
  {
   "cell_type": "markdown",
   "metadata": {},
   "source": [
    "По результатам визуализаций можно сделать вывод, что в контрольной группе (A) присутствует небольшое количество пользователей, доход от которых значительно превышает среднее значение дохода в группе. Возможно, в контрольой группе были использованны акционные предложения, которые привлекли больше пользователей."
   ]
  },
  {
   "cell_type": "markdown",
   "metadata": {},
   "source": [
    "Какие есть варианты дальнейшего исследования:\n",
    "1. Провести анализ результатов эксперимента для всех пользователей, включая тех, у кого доход равен нулю, и не удалять выбросы (учитываем конверсияю и ARPU).\n",
    "2. Отфильтровать пользователей с высоким доходом, оставив тех, кто значительно отличается от остальных пользователей по уровню дохода (ARPPU, т.к. вычислить только на платящих пользователях не получится).\n",
    "3. Удалить из выборки пользователей с нулевым доходом и тех, кто сильно отклоняется от основного распределения по уровню дохода (предполагаем, что система сплиования работает некорректно)."
   ]
  },
  {
   "cell_type": "code",
   "execution_count": 12,
   "metadata": {},
   "outputs": [
    {
     "name": "stdout",
     "output_type": "stream",
     "text": [
      "- Ст.отклонения группы A = 9046.693, группы B = 572.461067\n",
      "- P-value для теста Левена = 0.000\n",
      "- P-value для U-критерия Манна-Уитни = 0.000\n"
     ]
    }
   ],
   "source": [
    "# Оценка стат.тестов на исходных группах\n",
    "\n",
    "print('- Ст.отклонения группы A = {:.3f}, группы B = {:3f}'\n",
    "          .format(np.std(paying_a)[0], np.std(paying_b)[0]))\n",
    "print('- P-value для теста Левена = {:.3f}'\n",
    "          .format(st.levene(paying_a.revenue, paying_b.revenue)[1]))\n",
    "print('- P-value для U-критерия Манна-Уитни = {:.3f}'\n",
    "          .format(st.mannwhitneyu(paying_a.revenue, paying_b.revenue)[1]))"
   ]
  },
  {
   "cell_type": "markdown",
   "metadata": {},
   "source": [
    "На основании полученных графиков и проведенных тестов, необходимо отметить следующее: \n",
    "условия для осознанного применения параметрических тестов не были выполнены, оценка теста Левена не позволяет утверждать о гомогенности дисперсий, а также распределения данных отличаются от нормальных, присутствует разное количество наблюдений между группами, а также согласно критерию Манна-Уитни, группы статистически значимо различаются, так как p-value для теста < 0.05 (Н0: распределение данных нормальное p-value = 0.0 < 0.05 => Отклоняем гипотезу). После двух тестов делаем вывод => Распределение - не нормальное.\n",
    "\n",
    "Для более точных выводов и дальнейшего исследования сравнения групп, предлагается применить метод бутстрап на подвыборках платящих пользователей для оценки среднего показателя ARPPU. Таким образом, мы сможем провести статистический анализ и сделать выводы на основе более надежных данных."
   ]
  },
  {
   "cell_type": "code",
   "execution_count": 12,
   "metadata": {},
   "outputs": [],
   "source": [
    "def bootstrap(x, y, n, bootstrap_conf_level = 0.95):\n",
    "    \n",
    "    boot_len = max([len(x), len(y)])\n",
    "    boot_data = []\n",
    "    \n",
    "    for i in tqdm(range(n)): \n",
    "        samples_1 = x.sample(boot_len, replace = True).values\n",
    "        samples_2 = y.sample(boot_len, replace = True).values\n",
    "        boot_data.append(np.mean(samples_1-samples_2))\n",
    "        \n",
    "    pd_boot_data = pd.DataFrame(boot_data)\n",
    "        \n",
    "    left_quant = (1 - bootstrap_conf_level)/2\n",
    "    right_quant = 1 - (1 - bootstrap_conf_level) / 2\n",
    "    ci = pd_boot_data.quantile([left_quant, right_quant])\n",
    "        \n",
    "    p_1 = st.norm.cdf(x = 0, loc = np.mean(boot_data), scale = np.std(boot_data))\n",
    "    p_2 = st.norm.cdf(x = 0, loc = -np.mean(boot_data), scale = np.std(boot_data))\n",
    "    p_value = min(p_1, p_2) * 2\n",
    "        \n",
    "    plt.figure(figsize=(10, 7))\n",
    "    plt.hist(pd_boot_data[0], bins = 50)\n",
    "    plt.vlines(ci, 0, 600, linestyle='--', colors=['black'])\n",
    "    plt.xlabel('mean_diff')\n",
    "    plt.ylabel('frequency')\n",
    "    plt.title(\"Histogram of boot_data\")\n",
    "    plt.show()\n",
    "       \n",
    "    print('2.5%-ый перцентиль:{:.2f}, 97.5%-ый перцентиль:{:.2f}, p-value: {:.3f}'\n",
    "          .format(ci.values[0][0].astype('float64'), ci.values[1][0].astype('float64'), p_value))"
   ]
  },
  {
   "cell_type": "code",
   "execution_count": 14,
   "metadata": {},
   "outputs": [
    {
     "data": {
      "application/vnd.jupyter.widget-view+json": {
       "model_id": "e4307e285a0e47b98464f3c3a59d0a74",
       "version_major": 2,
       "version_minor": 0
      },
      "text/plain": [
       "HBox(children=(FloatProgress(value=0.0, max=10000.0), HTML(value='')))"
      ]
     },
     "metadata": {},
     "output_type": "display_data"
    },
    {
     "name": "stdout",
     "output_type": "stream",
     "text": [
      "\n"
     ]
    },
    {
     "data": {
      "image/png": "[encoded data removed]",
      "text/plain": [
       "<Figure size 720x504 with 1 Axes>"
      ]
     },
     "metadata": {
      "needs_background": "light"
     },
     "output_type": "display_data"
    },
    {
     "name": "stdout",
     "output_type": "stream",
     "text": [
      "2.5%-ый перцентиль:-736.62, 97.5%-ый перцентиль:75.24, p-value: 0.106\n"
     ]
    }
   ],
   "source": [
    "bootstrap(paying_a, paying_b, 10000)"
   ]
  },
  {
   "cell_type": "markdown",
   "metadata": {},
   "source": [
    "с вероятностью 95% у нас нет оснований отклонить нулевую гипотезу об отсутствии различий ARPPU в двух группах"
   ]
  },
  {
   "cell_type": "code",
   "execution_count": 15,
   "metadata": {},
   "outputs": [
    {
     "data": {
      "application/vnd.jupyter.widget-view+json": {
       "model_id": "42a492f8b57d4cf6b8d827fd6cb45107",
       "version_major": 2,
       "version_minor": 0
      },
      "text/plain": [
       "HBox(children=(FloatProgress(value=0.0, max=10000.0), HTML(value='')))"
      ]
     },
     "metadata": {},
     "output_type": "display_data"
    },
    {
     "name": "stdout",
     "output_type": "stream",
     "text": [
      "\n"
     ]
    },
    {
     "data": {
      "image/png": "[encoded data removed]",
      "text/plain": [
       "<Figure size 720x504 with 1 Axes>"
      ]
     },
     "metadata": {
      "needs_background": "light"
     },
     "output_type": "display_data"
    },
    {
     "name": "stdout",
     "output_type": "stream",
     "text": [
      "2.5%-ый перцентиль:-5.42, 97.5%-ый перцентиль:3.02, p-value: 0.526\n"
     ]
    }
   ],
   "source": [
    "# Используем бутстрап на группах, состоящих из всех пользователей вместе с неплатящими\n",
    "bootstrap(t2_df.query('testgroup == \"a\"')['revenue'], \n",
    "          t2_df.query('testgroup == \"b\"')['revenue'], \n",
    "          10000)"
   ]
  },
  {
   "cell_type": "markdown",
   "metadata": {},
   "source": [
    "с вероятностью 95% у нас нет оснований отклонить нулевую гипотезу об отсутствии различий ARPU в двух группах"
   ]
  },
  {
   "cell_type": "markdown",
   "metadata": {},
   "source": [
    "Из-за небольшого выбора данных, которые у нас есть, посчитаем конверсию в покупку."
   ]
  },
  {
   "cell_type": "markdown",
   "metadata": {},
   "source": [
    "# Посчитаем CR\n",
    "Conversion Rate - доля платящих пользователей среди всех пользователей."
   ]
  },
  {
   "cell_type": "markdown",
   "metadata": {},
   "source": [
    "# Сформируем гипотезы:\n",
    "H0 - CR между группами не различаются\n",
    "\n",
    "H1 - CR между группами различаются"
   ]
  },
  {
   "cell_type": "code",
   "execution_count": 13,
   "metadata": {},
   "outputs": [],
   "source": [
    "t2_df['buy'] = t2_df['revenue'].apply(lambda x: 1 if x > 0 else 0)"
   ]
  },
  {
   "cell_type": "code",
   "execution_count": 14,
   "metadata": {},
   "outputs": [],
   "source": [
    "conversion_data = (t2_df.groupby('testgroup') \\\n",
    "    .agg({'user_id': 'count', 'buy': 'sum'}) \\\n",
    "    .rename(columns={'user_id': 'user_count', 'buy': 'total_buys'}))"
   ]
  },
  {
   "cell_type": "code",
   "execution_count": 15,
   "metadata": {},
   "outputs": [
    {
     "data": {
      "text/html": [
       "<div>\n",
       "<style scoped>\n",
       "    .dataframe tbody tr th:only-of-type {\n",
       "        vertical-align: middle;\n",
       "    }\n",
       "\n",
       "    .dataframe tbody tr th {\n",
       "        vertical-align: top;\n",
       "    }\n",
       "\n",
       "    .dataframe thead th {\n",
       "        text-align: right;\n",
       "    }\n",
       "</style>\n",
       "<table border=\"1\" class=\"dataframe\">\n",
       "  <thead>\n",
       "    <tr style=\"text-align: right;\">\n",
       "      <th></th>\n",
       "      <th>user_count</th>\n",
       "      <th>total_buys</th>\n",
       "      <th>conversion</th>\n",
       "    </tr>\n",
       "    <tr>\n",
       "      <th>testgroup</th>\n",
       "      <th></th>\n",
       "      <th></th>\n",
       "      <th></th>\n",
       "    </tr>\n",
       "  </thead>\n",
       "  <tbody>\n",
       "    <tr>\n",
       "      <th>a</th>\n",
       "      <td>202103</td>\n",
       "      <td>1928</td>\n",
       "      <td>0.95</td>\n",
       "    </tr>\n",
       "    <tr>\n",
       "      <th>b</th>\n",
       "      <td>202667</td>\n",
       "      <td>1805</td>\n",
       "      <td>0.89</td>\n",
       "    </tr>\n",
       "  </tbody>\n",
       "</table>\n",
       "</div>"
      ],
      "text/plain": [
       "           user_count  total_buys  conversion\n",
       "testgroup                                    \n",
       "a              202103        1928        0.95\n",
       "b              202667        1805        0.89"
      ]
     },
     "execution_count": 15,
     "metadata": {},
     "output_type": "execute_result"
    }
   ],
   "source": [
    "conversion_data['conversion'] = round(conversion_data['total_buys'] / conversion_data['user_count'] * 100, 2)\n",
    "conversion_data"
   ]
  },
  {
   "cell_type": "markdown",
   "metadata": {},
   "source": [
    "Проверим зависит ли доля платящих пользователей от группы, используем X-квадрат Пирсона."
   ]
  },
  {
   "cell_type": "code",
   "execution_count": 16,
   "metadata": {},
   "outputs": [
    {
     "data": {
      "text/plain": [
       "0.03647561892312613"
      ]
     },
     "execution_count": 16,
     "metadata": {},
     "output_type": "execute_result"
    }
   ],
   "source": [
    "tat, p, dof, expected = ss.chi2_contingency(pd.crosstab(t2_df['testgroup'], t2_df['buy']))\n",
    "p"
   ]
  },
  {
   "cell_type": "markdown",
   "metadata": {},
   "source": [
    "Выводы:\n",
    "P-val < 0.05 поэтому мы можем отклонить нулевую гипотезу, соответственно конверсия между группами статистически отличается — в контрольной группе она больше."
   ]
  },
  {
   "cell_type": "markdown",
   "metadata": {},
   "source": [
    "# Выводы"
   ]
  },
  {
   "cell_type": "markdown",
   "metadata": {},
   "source": [
    "1. При исследовании метрики ARPU тест подсказал не отклонять H0;\n",
    "2. При исследовании метрики ARPPU в двух группах, также не выявил статистических различий;\n",
    "3. Конверсия между группами статистически отличается — в контрольной группе она больше.."
   ]
  },
  {
   "cell_type": "markdown",
   "metadata": {},
   "source": [
    "**Рекомендации**:\n",
    "- Если цель бизнеса - привлекать как можно больше пользователей с наибольшим доходом как в контрольной группе при наличии теоретического CRM отдела для работы с такими пользователями, цель которого не допускать отток и мотивировать их на траты - можно сделать выбор в пользу акционных предложений группы A, однако не гарантируется, что привлечение таких пользователей будет стабильным, требуются дополнительные исследования;\n",
    "- Если рассматривать общую картину - на основании проведенного исследования мы не выявили значимых различий в показателях ARPU и ARPPU двух групп, а следовательно не можем сделать выбор в пользу акционных предложений контрольной или тестовой группы, основываясь на этих показателях;\n",
    "- Набор предложений, сформированный для тестовой группы, можно считать не самым лучшим, исходя из полученных результатов метрик. Эти изменения лучше не вводить;\n",
    "- Выяснив дальнейшую стратегию получения прибыли, а также рассмотрев различия в показателях в совокупности - можем делать вывод в пользу того или иного варианта."
   ]
  },
  {
   "cell_type": "code",
   "execution_count": null,
   "metadata": {},
   "outputs": [],
   "source": []
  }
 ],
 "metadata": {
  "kernelspec": {
   "display_name": "Python 3",
   "language": "python",
   "name": "python3"
  },
  "language_info": {
   "codemirror_mode": {
    "name": "ipython",
    "version": 3
   },
   "file_extension": ".py",
   "mimetype": "text/x-python",
   "name": "python",
   "nbconvert_exporter": "python",
   "pygments_lexer": "ipython3",
   "version": "3.7.3"
  }
 },
 "nbformat": 4,
 "nbformat_minor": 4
}
